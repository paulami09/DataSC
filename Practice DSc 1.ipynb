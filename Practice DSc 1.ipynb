{
    "cells": [
        {
            "cell_type": "markdown",
            "metadata": {
                "id": "3ee98ac8-4715-4b20-b521-c7bade3272b5"
            },
            "source": "#Exercise 2 - Create a markdown cell with the title of the notebook. (1 pt)\n# graded Assignment in Data Science"
        },
        {
            "cell_type": "markdown",
            "metadata": {
                "id": "98fd38ce-d5fd-48b3-b211-7c33b173adb0"
            },
            "source": "#Exercise 3 - Create a markdown cell for an introduction. (1 pt)\n\n# Intro\nHello to data science tools"
        },
        {
            "cell_type": "markdown",
            "metadata": {
                "id": "1e98719c-600f-433e-bfb1-149781a88fca"
            },
            "source": "#Exercise 4 - Create a markdown cell to list data science languages. (3 pts)\n# Programming Languages Used in Data Science\n\nData science heavily relies on programming languages for data manipulation, analysis, and model building. Below is a list of commonly used data science languages:\n\n1. **Python**  \n   - Widely used for its simplicity and a vast ecosystem of libraries like Pandas, NumPy, Scikit-learn, TensorFlow, and PyTorch.\n\n2. **R**  \n   - Specialized for statistical computing and data visualization, with packages like ggplot2, dplyr, and caret.\n\n3. **SQL**  \n   - Essential for querying and managing structured data in relational databases.\n\n4. **Julia**  \n   - Known for its high performance in numerical computing and suitability for machine learning.\n\n5. **Java**  \n   - Used in enterprise-level data science applications and big data frameworks like Hadoop and Spark.\n\n6. **Scala**  \n   - Frequently used with Apache Spark for distributed data processing.\n\n7. **MATLAB**  \n   - Common in academia and engineering for numerical computing and data analysis.\n\n8. **SAS**  \n   - A proprietary tool often used in industries like healthcare and finance for advanced analytics and statistical modeling.\n\n9. **C/C++**  \n   - Used for performance-critical applications, especially when implementing machine learning algorithms from scratch.\n\n10. **JavaScript**  \n    - Increasingly used for data visualization libraries like D3.js and for integrating machine learning models in web applications.\n\n11. **Go**  \n    - Gaining traction for its efficiency and scalability in deploying machine learning systems.\n\nEach language has its unique strengths, and the choice often depends on the specific requirements of the data science project.\n"
        },
        {
            "cell_type": "markdown",
            "metadata": {
                "id": "834c497f-a874-44bb-9113-9346077b71e5"
            },
            "source": "Exercise 5 - Create a markdown cell to list data science libraries. (3 pts)\n\n# Data Science Libraries\n\nData science relies on a variety of libraries that provide powerful tools for data manipulation, analysis, visualization, and machine learning. Below is a list of widely used libraries across different programming languages:\n\n### **Python Libraries**\n1. **NumPy** - For numerical computations and handling multi-dimensional arrays.\n2. **Pandas** - For data manipulation and analysis, including data frames.\n3. **Matplotlib** - For data visualization with 2D plotting.\n4. **Seaborn** - Built on Matplotlib, provides high-level visualization tools.\n5. **Scikit-learn** - For machine learning, including classification, regression, and clustering.\n6. **TensorFlow** - An open-source framework for deep learning.\n7. **PyTorch** - Another popular framework for deep learning.\n\n### **R Libraries**\n1. **ggplot2** - For data visualization based on the grammar of graphics.\n2. **dplyr** - For data manipulation.\n3. **tidyr** - For tidying and reshaping data.\n4. **caret** - For machine learning tasks.\n5. **Shiny** - For building interactive web applications.\n6. **randomForest** - For implementing random forests in R."
        },
        {
            "cell_type": "markdown",
            "metadata": {
                "id": "bb1245d6-9a44-4ffe-8372-23285027d877"
            },
            "source": "Exercise 6 - Create a markdown cell with a table of Data Science tools. (3 pts)\n\n# Data Science Tools\n\nThe following table lists various tools used in Data Science, categorized by their primary purpose:\n\n| **Tool**          | **Category**            | **Description**                                                                 |\n|--------------------|-------------------------|---------------------------------------------------------------------------------|\n| **Jupyter Notebook** | Development Environment | Interactive computing environment for creating and sharing code, equations, and visualizations. |\n| **RStudio**         | Development Environment | IDE for R, supporting statistical analysis and data visualization.              |\n| **Apache Hadoop**   | Big Data Processing     | Framework for distributed storage and processing of large datasets.             |\n| **Apache Spark**    | Big Data Processing     | Fast and general-purpose distributed computing engine for big data analytics.   |\n| **Tableau**         | Data Visualization      | Business intelligence tool for creating dashboards and visualizations.          |\n| **Power BI**        | Data Visualization      | Microsoft\u2019s tool for interactive visualizations and business intelligence.      |\n| **Excel**           | Data Analysis           | Widely used spreadsheet software for basic data analysis and visualization.     |\n| **TensorFlow**      | Machine Learning/AI     | Open-source framework for building machine learning and deep learning models.   |\n| **PyTorch**         | Machine Learning/AI     | Framework for deep learning with dynamic computation graphs.                    |\n| **KNIME**           | Data Workflow           | Open-source platform for creating visual workflows in data science.             |\n| **MATLAB**          | Numerical Computing     | High-level environment for numerical analysis and computational modeling.       |\n| **H2O.ai**          | Machine Learning        | Platform for scalable machine learning.                                        |\n| **BigQuery**        | Cloud Data Warehouse    | Google\u2019s serverless data warehouse for analyzing large datasets.               |\n| **Git**             | Version Control         | Tool for version control and collaboration in code development.                |\n\nThese tools serve different aspects of the data science lifecycle, from data preprocessing and analysis to machine learning and deployment."
        },
        {
            "cell_type": "markdown",
            "metadata": {
                "id": "7b6833da-ff82-4756-8edc-34ab6eff6f88"
            },
            "source": "Exercise 7 - Create a markdown cell introducing arithmetic expression examples. (1 pt)\n\n# Arithmetic Expression Examples\n\nArithmetic expressions are fundamental operations used to perform mathematical calculations. These operations can include addition, subtraction, multiplication, division, and more complex computations. Below are some examples of basic arithmetic expressions:\n\n### Examples:\n1. **Addition**:  \n   `5 + 3 = 8`\n   \n2. **Subtraction**:  \n   `10 - 4 = 6`\n   \n3. **Multiplication**:  \n   `7 * 2 = 14`"
        },
        {
            "cell_type": "code",
            "execution_count": 9,
            "metadata": {
                "id": "eb9f22b7-8850-4cfc-9968-b4c2ea974228"
            },
            "outputs": [
                {
                    "name": "stdout",
                    "output_type": "stream",
                    "text": "The result of the operation is: 52\n"
                }
            ],
            "source": "#Exercise 8 - Create a code cell to multiply and add numbers. (2 pts)\n\n# Multiplication and addition example\n# Multiply 6 and 7, then add 10 to the result\n\nresult = (6 * 7) + 10\nprint(\"The result of the operation is:\", result)"
        },
        {
            "cell_type": "code",
            "execution_count": 12,
            "metadata": {
                "id": "cebbbec4-b296-419e-a5d4-d47d49c5064a"
            },
            "outputs": [
                {
                    "name": "stdout",
                    "output_type": "stream",
                    "text": "110 minutes is equal to 1.83 hours.\n"
                }
            ],
            "source": "#Exercise 9 - Create a code cell to convert minutes to hours. (2 pts)\n\nminutes = 110\nhours = (minutes)/60\nprint(f\"{minutes} minutes is equal to {hours:.2f} hours.\")"
        },
        {
            "cell_type": "markdown",
            "metadata": {
                "id": "3df20cca-f457-4145-bdb9-f54d76a55db4"
            },
            "source": "#Exercise 10 -Insert a markdown cell to list Objectives. (3 pts)\n\n# List of Objectives\n\n1. Learn Data science\n2. Practice hands-on examples\n3. Listen to videos &amp; examples\n"
        },
        {
            "cell_type": "markdown",
            "metadata": {
                "id": "517b6e05-17d9-4f33-af6a-5eeb87e90b14"
            },
            "source": "#Exercise 11 - Create a markdown cell to indicate the Author\u2019s name. (2 pts)\n\n# Author's Name - Paulami Nath"
        },
        {
            "cell_type": "markdown",
            "metadata": {
                "id": "9e55841c-9ce9-4863-8896-ba1725e83b97"
            },
            "source": "#Exercise 12 - Share your notebook through GitHub (3 pts)\n\nUploaded in master branch of github"
        },
        {
            "cell_type": "code",
            "execution_count": null,
            "metadata": {
                "id": "0f7ce92d-c489-430a-b545-373d5484413b"
            },
            "outputs": [],
            "source": ""
        }
    ],
    "metadata": {
        "kernelspec": {
            "display_name": "Python 3.11",
            "language": "python",
            "name": "python3"
        },
        "language_info": {
            "codemirror_mode": {
                "name": "ipython",
                "version": 3
            },
            "file_extension": ".py",
            "mimetype": "text/x-python",
            "name": "python",
            "nbconvert_exporter": "python",
            "pygments_lexer": "ipython3",
            "version": "3.11.9"
        }
    },
    "nbformat": 4,
    "nbformat_minor": 4
}